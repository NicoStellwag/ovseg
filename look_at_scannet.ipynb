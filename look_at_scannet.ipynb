{
 "cells": [
  {
   "cell_type": "code",
   "execution_count": 2,
   "metadata": {},
   "outputs": [],
   "source": [
    "import datasets.semseg as ss"
   ]
  },
  {
   "cell_type": "code",
   "execution_count": 3,
   "metadata": {},
   "outputs": [
    {
     "name": "stdout",
     "output_type": "stream",
     "text": [
      "generate data/processed/scannet/train_database.yaml first\n"
     ]
    },
    {
     "ename": "NameError",
     "evalue": "name 'exit' is not defined",
     "output_type": "error",
     "traceback": [
      "\u001b[0;31m---------------------------------------------------------------------------\u001b[0m",
      "\u001b[0;31mNameError\u001b[0m                                 Traceback (most recent call last)",
      "\u001b[1;32m/home/stellwag/dev/Mask3D/look_at_scannet.ipynb Cell 2\u001b[0m line \u001b[0;36m1\n\u001b[0;32m----> <a href='vscode-notebook-cell://ssh-remote%2B7b22686f73744e616d65223a2253575330322e76632e6369742e74756d2e6465227d/home/stellwag/dev/Mask3D/look_at_scannet.ipynb#W1sdnNjb2RlLXJlbW90ZQ%3D%3D?line=0'>1</a>\u001b[0m ds \u001b[39m=\u001b[39m ss\u001b[39m.\u001b[39;49mSemanticSegmentationDataset()\n",
      "File \u001b[0;32m~/dev/Mask3D/datasets/semseg.py:191\u001b[0m, in \u001b[0;36mSemanticSegmentationDataset.__init__\u001b[0;34m(self, dataset_name, data_dir, label_db_filepath, color_mean_std, mode, add_colors, add_normals, add_raw_coordinates, add_instance, num_labels, data_percent, ignore_label, volume_augmentations_path, image_augmentations_path, instance_oversampling, place_around_existing, max_cut_region, point_per_cut, flip_in_center, noise_rate, resample_points, cache_data, add_unlabeled_pc, task, cropping, cropping_args, is_tta, crop_min_size, crop_length, cropping_v1, reps_per_epoch, area, on_crops, eval_inner_core, filter_out_classes, label_offset, add_clip, is_elastic_distortion, color_drop)\u001b[0m\n\u001b[1;32m    187\u001b[0m     \u001b[39mif\u001b[39;00m \u001b[39mnot\u001b[39;00m (database_path \u001b[39m/\u001b[39m \u001b[39mf\u001b[39m\u001b[39m\"\u001b[39m\u001b[39m{\u001b[39;00mmode\u001b[39m}\u001b[39;00m\u001b[39m_database.yaml\u001b[39m\u001b[39m\"\u001b[39m)\u001b[39m.\u001b[39mexists():\n\u001b[1;32m    188\u001b[0m         \u001b[39mprint\u001b[39m(\n\u001b[1;32m    189\u001b[0m             \u001b[39mf\u001b[39m\u001b[39m\"\u001b[39m\u001b[39mgenerate \u001b[39m\u001b[39m{\u001b[39;00mdatabase_path\u001b[39m}\u001b[39;00m\u001b[39m/\u001b[39m\u001b[39m{\u001b[39;00mmode\u001b[39m}\u001b[39;00m\u001b[39m_database.yaml first\u001b[39m\u001b[39m\"\u001b[39m\n\u001b[1;32m    190\u001b[0m         )\n\u001b[0;32m--> 191\u001b[0m         exit()\n\u001b[1;32m    192\u001b[0m     \u001b[39mself\u001b[39m\u001b[39m.\u001b[39m_data\u001b[39m.\u001b[39mextend(\n\u001b[1;32m    193\u001b[0m         \u001b[39mself\u001b[39m\u001b[39m.\u001b[39m_load_yaml(database_path \u001b[39m/\u001b[39m \u001b[39mf\u001b[39m\u001b[39m\"\u001b[39m\u001b[39m{\u001b[39;00mmode\u001b[39m}\u001b[39;00m\u001b[39m_database.yaml\u001b[39m\u001b[39m\"\u001b[39m)\n\u001b[1;32m    194\u001b[0m     )\n\u001b[1;32m    195\u001b[0m \u001b[39melse\u001b[39;00m:\n",
      "\u001b[0;31mNameError\u001b[0m: name 'exit' is not defined"
     ]
    }
   ],
   "source": [
    "ds = ss.SemanticSegmentationDataset()"
   ]
  },
  {
   "cell_type": "code",
   "execution_count": null,
   "metadata": {},
   "outputs": [],
   "source": []
  }
 ],
 "metadata": {
  "kernelspec": {
   "display_name": "mask3d_cuda113",
   "language": "python",
   "name": "python3"
  },
  "language_info": {
   "codemirror_mode": {
    "name": "ipython",
    "version": 3
   },
   "file_extension": ".py",
   "mimetype": "text/x-python",
   "name": "python",
   "nbconvert_exporter": "python",
   "pygments_lexer": "ipython3",
   "version": "3.10.9"
  }
 },
 "nbformat": 4,
 "nbformat_minor": 2
}

{
 "cells": [
  {
   "cell_type": "markdown",
   "metadata": {},
   "source": [
    "# Geometric oversegmentation using Felzenszwalb method\n",
    "We want to use david's implementation because it\n",
    "- uses normals + colors instead of just normals\n",
    "- returns connectivity (neighborhood graph for segments) which is needed later\n",
    "\n",
    "The output file format and naming is equal to the implementation\n",
    "provided in the scannet repo. The only difference is we also save\n",
    "the connectivity."
   ]
  },
  {
   "cell_type": "code",
   "execution_count": 1,
   "metadata": {},
   "outputs": [
    {
     "name": "stdout",
     "output_type": "stream",
     "text": [
      "Jupyter environment detected. Enabling Open3D WebVisualizer.\n",
      "[Open3D INFO] WebRTC GUI backend enabled.\n",
      "[Open3D INFO] WebRTCWindowSystem: HTTP handshake server disabled.\n"
     ]
    }
   ],
   "source": [
    "import felzenszwalb_cpp\n",
    "import open3d as o3d\n",
    "from pathlib import Path\n",
    "import glob\n",
    "import numpy as np\n",
    "import os.path\n",
    "import json"
   ]
  },
  {
   "cell_type": "code",
   "execution_count": 2,
   "metadata": {},
   "outputs": [],
   "source": [
    "ds_dir = \"/mnt/hdd/scannet\"\n",
    "mesh_pattern = \"*_vh_clean_2.ply\"\n",
    "mesh_files = [str(i) for i in Path(ds_dir).rglob(mesh_pattern)]"
   ]
  },
  {
   "cell_type": "code",
   "execution_count": 6,
   "metadata": {},
   "outputs": [
    {
     "ename": "FileNotFoundError",
     "evalue": "[Errno 2] No such file or directory: '../data/raw/scannet_test_segments/scene0797_00_vh_clean_2.0.005000.segs.json'",
     "output_type": "error",
     "traceback": [
      "\u001b[0;31m---------------------------------------------------------------------------\u001b[0m",
      "\u001b[0;31mFileNotFoundError\u001b[0m                         Traceback (most recent call last)",
      "\u001b[1;32m/home/luebberstedt/ovseg/notebooks/geometric_oversegmentation.ipynb Cell 4\u001b[0m line \u001b[0;36m2\n\u001b[1;32m     <a href='vscode-notebook-cell://ssh-remote%2B7b22686f73744e616d65223a2253575330322e76632e6369742e74756d2e6465227d/home/luebberstedt/ovseg/notebooks/geometric_oversegmentation.ipynb#W3sdnNjb2RlLXJlbW90ZQ%3D%3D?line=23'>24</a>\u001b[0m r \u001b[39m=\u001b[39m np\u001b[39m.\u001b[39munique(seg_indices)\n\u001b[1;32m     <a href='vscode-notebook-cell://ssh-remote%2B7b22686f73744e616d65223a2253575330322e76632e6369742e74756d2e6465227d/home/luebberstedt/ovseg/notebooks/geometric_oversegmentation.ipynb#W3sdnNjb2RlLXJlbW90ZQ%3D%3D?line=25'>26</a>\u001b[0m filename \u001b[39m=\u001b[39m \u001b[39mstr\u001b[39m(os\u001b[39m.\u001b[39mpath\u001b[39m.\u001b[39mjoin(save_dir, scene_id[\u001b[39m1\u001b[39m:] \u001b[39m+\u001b[39m \u001b[39m\"\u001b[39m\u001b[39m.\u001b[39m\u001b[39m\"\u001b[39m \u001b[39m+\u001b[39m \u001b[39mf\u001b[39m\u001b[39m\"\u001b[39m\u001b[39m{\u001b[39;00mkthr\u001b[39m:\u001b[39;00m\u001b[39m.6f\u001b[39m\u001b[39m}\u001b[39;00m\u001b[39m\"\u001b[39m \u001b[39m+\u001b[39m \u001b[39m\"\u001b[39m\u001b[39m.segs.json\u001b[39m\u001b[39m\"\u001b[39m))\n\u001b[0;32m---> <a href='vscode-notebook-cell://ssh-remote%2B7b22686f73744e616d65223a2253575330322e76632e6369742e74756d2e6465227d/home/luebberstedt/ovseg/notebooks/geometric_oversegmentation.ipynb#W3sdnNjb2RlLXJlbW90ZQ%3D%3D?line=26'>27</a>\u001b[0m \u001b[39mwith\u001b[39;00m \u001b[39mopen\u001b[39;49m(filename, \u001b[39m'\u001b[39;49m\u001b[39mw\u001b[39;49m\u001b[39m'\u001b[39;49m) \u001b[39mas\u001b[39;00m f:\n\u001b[1;32m     <a href='vscode-notebook-cell://ssh-remote%2B7b22686f73744e616d65223a2253575330322e76632e6369742e74756d2e6465227d/home/luebberstedt/ovseg/notebooks/geometric_oversegmentation.ipynb#W3sdnNjb2RlLXJlbW90ZQ%3D%3D?line=27'>28</a>\u001b[0m     f\u001b[39m.\u001b[39mwrite(json\u001b[39m.\u001b[39mdumps(content))\n\u001b[1;32m     <a href='vscode-notebook-cell://ssh-remote%2B7b22686f73744e616d65223a2253575330322e76632e6369742e74756d2e6465227d/home/luebberstedt/ovseg/notebooks/geometric_oversegmentation.ipynb#W3sdnNjb2RlLXJlbW90ZQ%3D%3D?line=28'>29</a>\u001b[0m \u001b[39mprint\u001b[39m(r)\n",
      "File \u001b[0;32m~/miniconda3/envs/mask3d_cuda113/lib/python3.10/site-packages/IPython/core/interactiveshell.py:284\u001b[0m, in \u001b[0;36m_modified_open\u001b[0;34m(file, *args, **kwargs)\u001b[0m\n\u001b[1;32m    277\u001b[0m \u001b[39mif\u001b[39;00m file \u001b[39min\u001b[39;00m {\u001b[39m0\u001b[39m, \u001b[39m1\u001b[39m, \u001b[39m2\u001b[39m}:\n\u001b[1;32m    278\u001b[0m     \u001b[39mraise\u001b[39;00m \u001b[39mValueError\u001b[39;00m(\n\u001b[1;32m    279\u001b[0m         \u001b[39mf\u001b[39m\u001b[39m\"\u001b[39m\u001b[39mIPython won\u001b[39m\u001b[39m'\u001b[39m\u001b[39mt let you open fd=\u001b[39m\u001b[39m{\u001b[39;00mfile\u001b[39m}\u001b[39;00m\u001b[39m by default \u001b[39m\u001b[39m\"\u001b[39m\n\u001b[1;32m    280\u001b[0m         \u001b[39m\"\u001b[39m\u001b[39mas it is likely to crash IPython. If you know what you are doing, \u001b[39m\u001b[39m\"\u001b[39m\n\u001b[1;32m    281\u001b[0m         \u001b[39m\"\u001b[39m\u001b[39myou can use builtins\u001b[39m\u001b[39m'\u001b[39m\u001b[39m open.\u001b[39m\u001b[39m\"\u001b[39m\n\u001b[1;32m    282\u001b[0m     )\n\u001b[0;32m--> 284\u001b[0m \u001b[39mreturn\u001b[39;00m io_open(file, \u001b[39m*\u001b[39;49margs, \u001b[39m*\u001b[39;49m\u001b[39m*\u001b[39;49mkwargs)\n",
      "\u001b[0;31mFileNotFoundError\u001b[0m: [Errno 2] No such file or directory: '../data/raw/scannet_test_segments/scene0797_00_vh_clean_2.0.005000.segs.json'"
     ]
    }
   ],
   "source": [
    "save_dir = \"../data/raw/scannet_test_segments/\"\n",
    "\n",
    "kthr = 0.005 # threshold\n",
    "segment_min_vert_num = 20 # not set in hydra config so assume default of class constructor\n",
    "\n",
    "for mesh_file in mesh_files:\n",
    "    scene_mesh = o3d.io.read_triangle_mesh(mesh_file)\n",
    "    vertices = np.array(scene_mesh.vertices).astype(np.single)\n",
    "    colors = np.array(scene_mesh.vertex_colors).astype(np.single)\n",
    "    faces = np.array(scene_mesh.triangles).astype(np.intc)\n",
    "\n",
    "    seg_indices, seg_connectivity = felzenszwalb_cpp.segment_mesh(vertices, faces, colors, kthr, segment_min_vert_num)\n",
    "\n",
    "    scene_id = \"/\" + os.path.splitext(os.path.basename(mesh_file))[0]\n",
    "    content = {\n",
    "        \"params\": {\n",
    "            \"kThresh\": kthr,\n",
    "            \"segMinVerts\": segment_min_vert_num,\n",
    "        },\n",
    "        \"sceneId\": scene_id,\n",
    "        \"segIndices\": seg_indices.tolist(),\n",
    "        \"segConnectivity\": seg_connectivity.tolist()\n",
    "    }\n",
    "    r = np.unique(seg_indices)\n",
    "    \n",
    "    filename = str(os.path.join(save_dir, scene_id[1:] + \".\" + f\"{kthr:.6f}\" + \".segs.json\"))\n",
    "    with open(filename, 'w') as f:\n",
    "        f.write(json.dumps(content))\n",
    "    print(r)"
   ]
  }
 ],
 "metadata": {
  "kernelspec": {
   "display_name": "mask3d_cuda113",
   "language": "python",
   "name": "python3"
  },
  "language_info": {
   "codemirror_mode": {
    "name": "ipython",
    "version": 3
   },
   "file_extension": ".py",
   "mimetype": "text/x-python",
   "name": "python",
   "nbconvert_exporter": "python",
   "pygments_lexer": "ipython3",
   "version": "3.10.9"
  }
 },
 "nbformat": 4,
 "nbformat_minor": 2
}

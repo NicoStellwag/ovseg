{
 "cells": [
  {
   "cell_type": "markdown",
   "metadata": {},
   "source": [
    "# Geometric oversegmentation using Felzenszwalb method\n",
    "We want to use david's implementation because it\n",
    "- uses normals + colors instead of just normals\n",
    "- returns connectivity (neighborhood graph for segments) which is needed later\n",
    "\n",
    "The output file format and naming is equal to the implementation\n",
    "provided in the scannet repo. The only difference is we also save\n",
    "the connectivity."
   ]
  },
  {
   "cell_type": "code",
   "execution_count": 50,
   "metadata": {},
   "outputs": [],
   "source": [
    "import felzenszwalb_cpp\n",
    "import open3d as o3d\n",
    "from pathlib import Path\n",
    "import glob\n",
    "import numpy as np\n",
    "import os.path\n",
    "import json"
   ]
  },
  {
   "cell_type": "code",
   "execution_count": 31,
   "metadata": {},
   "outputs": [],
   "source": [
    "ds_dir = \"/mnt/hdd/scannet\"\n",
    "mesh_pattern = \"*_vh_clean_2.ply\"\n",
    "mesh_files = [str(i) for i in Path(ds_dir).rglob(mesh_pattern)]"
   ]
  },
  {
   "cell_type": "code",
   "execution_count": 67,
   "metadata": {},
   "outputs": [],
   "source": [
    "save_dir = \"../data/raw/scannet_test_segments/\"\n",
    "\n",
    "kthr = 0.005 # threshold\n",
    "segment_min_vert_num = 20 # not set in hydra config so assume default of class constructor\n",
    "\n",
    "for mesh_file in mesh_files:\n",
    "    scene_mesh = o3d.io.read_triangle_mesh(mesh_file)\n",
    "    vertices = np.array(scene_mesh.vertices).astype(np.single)\n",
    "    colors = np.array(scene_mesh.vertex_colors).astype(np.single)\n",
    "    faces = np.array(scene_mesh.triangles).astype(np.intc)\n",
    "\n",
    "    seg_indices, seg_connectivity = felzenszwalb_cpp.segment_mesh(vertices, faces, colors, kthr, segment_min_vert_num)\n",
    "\n",
    "    scene_id = \"/\" + os.path.splitext(os.path.basename(mesh_file))[0]\n",
    "    content = {\n",
    "        \"params\": {\n",
    "            \"kThresh\": kthr,\n",
    "            \"segMinVerts\": segment_min_vert_num,\n",
    "        },\n",
    "        \"sceneId\": scene_id,\n",
    "        \"segIndices\": seg_indices.tolist(),\n",
    "        \"segConnectivity\": seg_connectivity.tolist()\n",
    "    }\n",
    "    \n",
    "    filename = str(os.path.join(save_dir, scene_id[1:] + \".\" + f\"{kthr:.6f}\" + \".segs.json\"))\n",
    "    with open(filename, 'w') as f:\n",
    "        f.write(json.dumps(content))"
   ]
  }
 ],
 "metadata": {
  "kernelspec": {
   "display_name": "mask3d_cuda113",
   "language": "python",
   "name": "python3"
  },
  "language_info": {
   "codemirror_mode": {
    "name": "ipython",
    "version": 3
   },
   "file_extension": ".py",
   "mimetype": "text/x-python",
   "name": "python",
   "nbconvert_exporter": "python",
   "pygments_lexer": "ipython3",
   "version": "3.10.9"
  }
 },
 "nbformat": 4,
 "nbformat_minor": 2
}
